{
 "cells": [
  {
   "cell_type": "markdown",
   "metadata": {},
   "source": [
    "# Dataset: Aceitação de crédito para clientes de um banco australiano"
   ]
  },
  {
   "cell_type": "code",
   "execution_count": 1,
   "metadata": {},
   "outputs": [
    {
     "data": {
      "text/html": [
       "<div>\n",
       "<style scoped>\n",
       "    .dataframe tbody tr th:only-of-type {\n",
       "        vertical-align: middle;\n",
       "    }\n",
       "\n",
       "    .dataframe tbody tr th {\n",
       "        vertical-align: top;\n",
       "    }\n",
       "\n",
       "    .dataframe thead th {\n",
       "        text-align: right;\n",
       "    }\n",
       "</style>\n",
       "<table border=\"1\" class=\"dataframe\">\n",
       "  <thead>\n",
       "    <tr style=\"text-align: right;\">\n",
       "      <th></th>\n",
       "      <th>A1</th>\n",
       "      <th>A2</th>\n",
       "      <th>A3</th>\n",
       "      <th>A4</th>\n",
       "      <th>A5</th>\n",
       "      <th>A6</th>\n",
       "      <th>A7</th>\n",
       "      <th>A8</th>\n",
       "      <th>A9</th>\n",
       "      <th>A10</th>\n",
       "      <th>A11</th>\n",
       "      <th>A12</th>\n",
       "      <th>A13</th>\n",
       "      <th>A14</th>\n",
       "      <th>Class</th>\n",
       "    </tr>\n",
       "  </thead>\n",
       "  <tbody>\n",
       "    <tr>\n",
       "      <th>0</th>\n",
       "      <td>1</td>\n",
       "      <td>2675.0</td>\n",
       "      <td>45.0</td>\n",
       "      <td>1</td>\n",
       "      <td>8</td>\n",
       "      <td>5</td>\n",
       "      <td>25.0</td>\n",
       "      <td>0</td>\n",
       "      <td>0</td>\n",
       "      <td>0</td>\n",
       "      <td>0</td>\n",
       "      <td>2</td>\n",
       "      <td>200</td>\n",
       "      <td>1211</td>\n",
       "      <td>0</td>\n",
       "    </tr>\n",
       "    <tr>\n",
       "      <th>1</th>\n",
       "      <td>1</td>\n",
       "      <td>3358.0</td>\n",
       "      <td>275.0</td>\n",
       "      <td>2</td>\n",
       "      <td>7</td>\n",
       "      <td>4</td>\n",
       "      <td>425.0</td>\n",
       "      <td>1</td>\n",
       "      <td>1</td>\n",
       "      <td>6</td>\n",
       "      <td>0</td>\n",
       "      <td>2</td>\n",
       "      <td>204</td>\n",
       "      <td>1</td>\n",
       "      <td>1</td>\n",
       "    </tr>\n",
       "    <tr>\n",
       "      <th>2</th>\n",
       "      <td>1</td>\n",
       "      <td>2567.0</td>\n",
       "      <td>220.99999999999997</td>\n",
       "      <td>1</td>\n",
       "      <td>6</td>\n",
       "      <td>4</td>\n",
       "      <td>3.9999999999999996</td>\n",
       "      <td>1</td>\n",
       "      <td>0</td>\n",
       "      <td>0</td>\n",
       "      <td>0</td>\n",
       "      <td>2</td>\n",
       "      <td>188</td>\n",
       "      <td>1</td>\n",
       "      <td>0</td>\n",
       "    </tr>\n",
       "    <tr>\n",
       "      <th>3</th>\n",
       "      <td>0</td>\n",
       "      <td>2958.0</td>\n",
       "      <td>175.0</td>\n",
       "      <td>1</td>\n",
       "      <td>4</td>\n",
       "      <td>4</td>\n",
       "      <td>125.0</td>\n",
       "      <td>0</td>\n",
       "      <td>0</td>\n",
       "      <td>0</td>\n",
       "      <td>1</td>\n",
       "      <td>2</td>\n",
       "      <td>280</td>\n",
       "      <td>1</td>\n",
       "      <td>0</td>\n",
       "    </tr>\n",
       "    <tr>\n",
       "      <th>4</th>\n",
       "      <td>1</td>\n",
       "      <td>2258.0</td>\n",
       "      <td>1004.0</td>\n",
       "      <td>2</td>\n",
       "      <td>14</td>\n",
       "      <td>4</td>\n",
       "      <td>3.9999999999999996</td>\n",
       "      <td>1</td>\n",
       "      <td>1</td>\n",
       "      <td>9</td>\n",
       "      <td>0</td>\n",
       "      <td>2</td>\n",
       "      <td>60</td>\n",
       "      <td>397</td>\n",
       "      <td>1</td>\n",
       "    </tr>\n",
       "  </tbody>\n",
       "</table>\n",
       "</div>"
      ],
      "text/plain": [
       "  A1       A2                   A3  A4   A5  A6                   A7  A8  A9  \\\n",
       "0  1   2675.0                 45.0   1    8   5                 25.0   0   0   \n",
       "1  1   3358.0                275.0   2    7   4                425.0   1   1   \n",
       "2  1   2567.0   220.99999999999997   1    6   4   3.9999999999999996   1   0   \n",
       "3  0   2958.0                175.0   1    4   4                125.0   0   0   \n",
       "4  1   2258.0               1004.0   2   14   4   3.9999999999999996   1   1   \n",
       "\n",
       "  A10 A11 A12   A13    A14 Class  \n",
       "0   0   0   2   200   1211     0  \n",
       "1   6   0   2   204      1     1  \n",
       "2   0   0   2   188      1     0  \n",
       "3   0   1   2   280      1     0  \n",
       "4   9   0   2    60    397     1  "
      ]
     },
     "execution_count": 1,
     "metadata": {},
     "output_type": "execute_result"
    }
   ],
   "source": [
    "import pandas as pd\n",
    "import numpy as np\n",
    "\n",
    "# Caminho do arquivo .dat\n",
    "file_path = 'australian-ssl20-10-1tra.dat'\n",
    "\n",
    "# Listas para armazenar as colunas e os dados\n",
    "columns = []\n",
    "data = []\n",
    "\n",
    "# Abrir e processar o arquivo\n",
    "with open(file_path, 'r') as file:\n",
    "    for line in file:\n",
    "        line = line.strip()\n",
    "        \n",
    "        # Identificar e armazenar atributos\n",
    "        if line.startswith('@attribute'):\n",
    "            column_name = line.split()[1]\n",
    "            columns.append(column_name)\n",
    "        \n",
    "        # Identificar e armazenar os dados\n",
    "        elif not line.startswith('@') and line:  # Ignorar linhas que começam com @ ou estão vazias\n",
    "            data.append(line.split(','))  # Supondo que os dados estejam separados por vírgula\n",
    "\n",
    "# Criar o DataFrame\n",
    "data = pd.DataFrame(data, columns=columns)\n",
    "\n",
    "# Visualizar o DataFrame\n",
    "data.head()\n"
   ]
  },
  {
   "cell_type": "code",
   "execution_count": null,
   "metadata": {},
   "outputs": [
    {
     "data": {
      "text/plain": [
       "(621, 15)"
      ]
     },
     "execution_count": 2,
     "metadata": {},
     "output_type": "execute_result"
    }
   ],
   "source": [
    "data.shape"
   ]
  },
  {
   "cell_type": "markdown",
   "metadata": {},
   "source": [
    "Entendo quantas instâncias não rotuladas temos"
   ]
  },
  {
   "cell_type": "code",
   "execution_count": 3,
   "metadata": {},
   "outputs": [
    {
     "data": {
      "text/plain": [
       "Class\n",
       "unlabeled    497\n",
       "0             68\n",
       "1             56\n",
       "Name: count, dtype: int64"
      ]
     },
     "execution_count": 3,
     "metadata": {},
     "output_type": "execute_result"
    }
   ],
   "source": [
    "data[\"Class\"].value_counts()"
   ]
  },
  {
   "cell_type": "code",
   "execution_count": 13,
   "metadata": {},
   "outputs": [
    {
     "data": {
      "text/html": [
       "<div>\n",
       "<style scoped>\n",
       "    .dataframe tbody tr th:only-of-type {\n",
       "        vertical-align: middle;\n",
       "    }\n",
       "\n",
       "    .dataframe tbody tr th {\n",
       "        vertical-align: top;\n",
       "    }\n",
       "\n",
       "    .dataframe thead th {\n",
       "        text-align: right;\n",
       "    }\n",
       "</style>\n",
       "<table border=\"1\" class=\"dataframe\">\n",
       "  <thead>\n",
       "    <tr style=\"text-align: right;\">\n",
       "      <th></th>\n",
       "      <th>Class</th>\n",
       "      <th>Count</th>\n",
       "      <th>Percentage</th>\n",
       "    </tr>\n",
       "    <tr>\n",
       "      <th>Class</th>\n",
       "      <th></th>\n",
       "      <th></th>\n",
       "      <th></th>\n",
       "    </tr>\n",
       "  </thead>\n",
       "  <tbody>\n",
       "    <tr>\n",
       "      <th>unlabeled</th>\n",
       "      <td>unlabeled</td>\n",
       "      <td>497</td>\n",
       "      <td>80.03</td>\n",
       "    </tr>\n",
       "    <tr>\n",
       "      <th>0</th>\n",
       "      <td>0</td>\n",
       "      <td>68</td>\n",
       "      <td>10.95</td>\n",
       "    </tr>\n",
       "    <tr>\n",
       "      <th>1</th>\n",
       "      <td>1</td>\n",
       "      <td>56</td>\n",
       "      <td>9.02</td>\n",
       "    </tr>\n",
       "  </tbody>\n",
       "</table>\n",
       "</div>"
      ],
      "text/plain": [
       "                Class  Count  Percentage\n",
       "Class                                   \n",
       "unlabeled   unlabeled    497       80.03\n",
       "0                   0     68       10.95\n",
       "1                   1     56        9.02"
      ]
     },
     "execution_count": 13,
     "metadata": {},
     "output_type": "execute_result"
    }
   ],
   "source": [
    "# Supondo que você já tenha o DataFrame\n",
    "value_counts = data[\"Class\"].value_counts()\n",
    "\n",
    "# Calcular porcentagem\n",
    "percentages = (value_counts / value_counts.sum()) * 100\n",
    "\n",
    "# Exibir os resultados\n",
    "result = pd.DataFrame({\n",
    "    'Class': value_counts.index,\n",
    "    'Count': value_counts.values,\n",
    "    'Percentage': percentages.round(2)  # Arredonda para 2 casas decimais\n",
    "})\n",
    "\n",
    "result"
   ]
  },
  {
   "cell_type": "markdown",
   "metadata": {},
   "source": [
    "Cerca de 20% das instâncias rotuladas"
   ]
  },
  {
   "cell_type": "code",
   "execution_count": 14,
   "metadata": {},
   "outputs": [
    {
     "name": "stdout",
     "output_type": "stream",
     "text": [
      "<class 'pandas.core.frame.DataFrame'>\n",
      "RangeIndex: 621 entries, 0 to 620\n",
      "Data columns (total 15 columns):\n",
      " #   Column  Non-Null Count  Dtype \n",
      "---  ------  --------------  ----- \n",
      " 0   A1      621 non-null    object\n",
      " 1   A2      621 non-null    object\n",
      " 2   A3      621 non-null    object\n",
      " 3   A4      621 non-null    object\n",
      " 4   A5      621 non-null    object\n",
      " 5   A6      621 non-null    object\n",
      " 6   A7      621 non-null    object\n",
      " 7   A8      621 non-null    object\n",
      " 8   A9      621 non-null    object\n",
      " 9   A10     621 non-null    object\n",
      " 10  A11     621 non-null    object\n",
      " 11  A12     621 non-null    object\n",
      " 12  A13     621 non-null    object\n",
      " 13  A14     621 non-null    object\n",
      " 14  Class   621 non-null    object\n",
      "dtypes: object(15)\n",
      "memory usage: 72.9+ KB\n"
     ]
    }
   ],
   "source": [
    "data.info()\n"
   ]
  },
  {
   "cell_type": "markdown",
   "metadata": {},
   "source": [
    "Separando em x e y"
   ]
  },
  {
   "cell_type": "code",
   "execution_count": 15,
   "metadata": {},
   "outputs": [],
   "source": [
    "y = data[\"Class\"]\n",
    "X = data.drop(\"Class\", axis=1)"
   ]
  },
  {
   "cell_type": "code",
   "execution_count": 16,
   "metadata": {},
   "outputs": [
    {
     "data": {
      "image/png": "[encoded data removed]",
      "text/plain": [
       "<Figure size 640x480 with 1 Axes>"
      ]
     },
     "metadata": {},
     "output_type": "display_data"
    }
   ],
   "source": [
    "from sklearn.preprocessing import StandardScaler\n",
    "from sklearn.decomposition import PCA\n",
    "import matplotlib.pyplot as plt\n",
    "\n",
    "\n",
    "scaler = StandardScaler()\n",
    "pca = PCA(n_components=2)\n",
    "\n",
    "scaled_data = scaler.fit_transform(X)\n",
    "reduced_data = pca.fit_transform(scaled_data)\n",
    "\n",
    "# Criar um novo DataFrame com os dados reduzidos\n",
    "reduced_df = pd.DataFrame(reduced_data, columns=['Principal Component 1', 'Principal Component 2'])\n",
    "\n",
    "# Supondo que y tenha três valores únicos, como 0, 1 e 2.\n",
    "unique_labels = np.unique(y)\n",
    "colors = ['blue', 'red', 'black']  # Cores para cada rótulo\n",
    "\n",
    "# Verifique se o número de cores corresponde ao número de rótulos únicos\n",
    "if len(colors) < len(unique_labels):\n",
    "    raise ValueError(\"Não há cores suficientes para representar todos os rótulos.\")\n",
    "\n",
    "# Plotando cada rótulo separadamente\n",
    "for label, color in zip(unique_labels, colors):\n",
    "    mask = y == label\n",
    "    plt.scatter(reduced_data[mask, 0], reduced_data[mask, 1], label=f'Rótulo {label}', color=color)\n",
    "\n",
    "plt.xlabel('Componente Principal 1')\n",
    "plt.ylabel('Componente Principal 2')\n",
    "plt.title('PCA - Visualização dos Dados por Rótulo')\n",
    "plt.legend()\n",
    "plt.show()\n",
    "\n"
   ]
  },
  {
   "cell_type": "markdown",
   "metadata": {},
   "source": [
    "É possível perceber algumas coisas através desse plot\n",
    "<ol>\n",
    "<li>Existe uma fronteira de decisão aparentemente evidente\n",
    "<li>Os exemplos não rotulados parecem cobrir ambas as classes em proporções levemente diferentes\n",
    "<li>Existem outliers (poucos)\n",
    "</ol>"
   ]
  },
  {
   "cell_type": "markdown",
   "metadata": {},
   "source": [
    "# Modelos indutivos\n",
    "Aqui tentaremos criar modelos que sejam úteis para a classificação de instâncias futuras da base de dados"
   ]
  },
  {
   "cell_type": "markdown",
   "metadata": {},
   "source": [
    "# SelfTraining"
   ]
  },
  {
   "cell_type": "markdown",
   "metadata": {},
   "source": [
    "Separando conjunto de treinamento do conjunto de testes"
   ]
  },
  {
   "cell_type": "code",
   "execution_count": 17,
   "metadata": {},
   "outputs": [],
   "source": [
    "from sklearn.model_selection import train_test_split\n",
    "x_train, x_test, y_train, y_test = train_test_split(X, y, test_size=0.2, random_state=42)"
   ]
  },
  {
   "cell_type": "code",
   "execution_count": 18,
   "metadata": {},
   "outputs": [],
   "source": [
    "from sklearn.tree import DecisionTreeClassifier\n",
    "from sklearn.svm import SVC\n",
    "from sklearn.neural_network import MLPClassifier\n",
    "\n",
    "\n",
    "models = {\n",
    "    'Decision Tree': DecisionTreeClassifier(),\n",
    "    \"SVM\" : SVC(),\n",
    "    \"MLP\": MLPClassifier()\n",
    "}"
   ]
  },
  {
   "cell_type": "code",
   "execution_count": 21,
   "metadata": {},
   "outputs": [
    {
     "name": "stderr",
     "output_type": "stream",
     "text": [
      "/home/dani/ciencias-da-computacao/8-semestre/mineracao-de-dados/atividades/venv/lib/python3.12/site-packages/sklearn/semi_supervised/_self_training.py:227: UserWarning: y contains no unlabeled samples\n",
      "  warnings.warn(\"y contains no unlabeled samples\", UserWarning)\n",
      "/home/dani/ciencias-da-computacao/8-semestre/mineracao-de-dados/atividades/venv/lib/python3.12/site-packages/sklearn/semi_supervised/_self_training.py:227: UserWarning: y contains no unlabeled samples\n",
      "  warnings.warn(\"y contains no unlabeled samples\", UserWarning)\n",
      "/home/dani/ciencias-da-computacao/8-semestre/mineracao-de-dados/atividades/venv/lib/python3.12/site-packages/sklearn/semi_supervised/_self_training.py:227: UserWarning: y contains no unlabeled samples\n",
      "  warnings.warn(\"y contains no unlabeled samples\", UserWarning)\n"
     ]
    },
    {
     "data": {
      "text/html": [
       "<div>\n",
       "<style scoped>\n",
       "    .dataframe tbody tr th:only-of-type {\n",
       "        vertical-align: middle;\n",
       "    }\n",
       "\n",
       "    .dataframe tbody tr th {\n",
       "        vertical-align: top;\n",
       "    }\n",
       "\n",
       "    .dataframe thead th {\n",
       "        text-align: right;\n",
       "    }\n",
       "</style>\n",
       "<table border=\"1\" class=\"dataframe\">\n",
       "  <thead>\n",
       "    <tr style=\"text-align: right;\">\n",
       "      <th></th>\n",
       "      <th>Modelo</th>\n",
       "      <th>Acurácia</th>\n",
       "      <th>F1 Macro</th>\n",
       "      <th>F1 Weighted</th>\n",
       "    </tr>\n",
       "  </thead>\n",
       "  <tbody>\n",
       "    <tr>\n",
       "      <th>0</th>\n",
       "      <td>SelfTraining(Decision Tree)</td>\n",
       "      <td>0.672</td>\n",
       "      <td>0.395160</td>\n",
       "      <td>0.666916</td>\n",
       "    </tr>\n",
       "    <tr>\n",
       "      <th>1</th>\n",
       "      <td>SelfTraining(SVM)</td>\n",
       "      <td>0.784</td>\n",
       "      <td>0.292975</td>\n",
       "      <td>0.689076</td>\n",
       "    </tr>\n",
       "    <tr>\n",
       "      <th>2</th>\n",
       "      <td>SelfTraining(MLP)</td>\n",
       "      <td>0.680</td>\n",
       "      <td>0.273752</td>\n",
       "      <td>0.643865</td>\n",
       "    </tr>\n",
       "  </tbody>\n",
       "</table>\n",
       "</div>"
      ],
      "text/plain": [
       "                        Modelo  Acurácia  F1 Macro  F1 Weighted\n",
       "0  SelfTraining(Decision Tree)     0.672  0.395160     0.666916\n",
       "1            SelfTraining(SVM)     0.784  0.292975     0.689076\n",
       "2            SelfTraining(MLP)     0.680  0.273752     0.643865"
      ]
     },
     "execution_count": 21,
     "metadata": {},
     "output_type": "execute_result"
    }
   ],
   "source": [
    "from sklearn.semi_supervised import SelfTrainingClassifier\n",
    "from sklearn.metrics import accuracy_score, f1_score\n",
    "\n",
    "metrics = []\n",
    "for name, model in models.items():\n",
    "\n",
    "    # Definindo o classificador de self-training\n",
    "    self_training_model = SelfTrainingClassifier(\n",
    "        base_estimator=model,\n",
    "        threshold=0.9,\n",
    "    )    \n",
    "    # Treinando o classificador de self-training\n",
    "    self_training_model.fit(x_train, y_train)\n",
    "\n",
    "    # Fazendo previsões nos dados de teste\n",
    "    y_pred = self_training_model.predict(x_test)\n",
    "    \n",
    "    accuracy = accuracy_score(y_test, y_pred)\n",
    "    f1_macro = f1_score(y_test, y_pred, average='macro')\n",
    "    f1_weighted = f1_score(y_test, y_pred, average='weighted')\n",
    "\n",
    "    metrics.append({\n",
    "            \"Modelo\": f\"SelfTraining({name})\",\n",
    "            \"Acurácia\": accuracy,\n",
    "            \"F1 Macro\": f1_macro,\n",
    "            \"F1 Weighted\": f1_weighted\n",
    "    })\n",
    "df_metrics = pd.DataFrame(metrics)\n",
    "df_metrics"
   ]
  }
 ],
 "metadata": {
  "kernelspec": {
   "display_name": "venv",
   "language": "python",
   "name": "python3"
  },
  "language_info": {
   "codemirror_mode": {
    "name": "ipython",
    "version": 3
   },
   "file_extension": ".py",
   "mimetype": "text/x-python",
   "name": "python",
   "nbconvert_exporter": "python",
   "pygments_lexer": "ipython3",
   "version": "3.12.4"
  }
 },
 "nbformat": 4,
 "nbformat_minor": 2
}
